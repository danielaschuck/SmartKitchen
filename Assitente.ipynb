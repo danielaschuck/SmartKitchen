{
 "cells": [
  {
   "cell_type": "code",
   "execution_count": 1,
   "id": "9294c5cc-8d9a-4781-9646-49b154ba6b87",
   "metadata": {},
   "outputs": [],
   "source": [
    "# Bibliotecas principais\n",
    "import pandas as pd\n",
    "import numpy as np\n",
    "\n",
    "# Machine Learning\n",
    "from sklearn.model_selection import train_test_split\n",
    "from sklearn.ensemble import RandomForestClassifier  # Exemplo de modelo, podemos ajustar depois\n",
    "from sklearn.preprocessing import LabelEncoder\n",
    "\n",
    "# Exibição\n",
    "import matplotlib.pyplot as plt\n",
    "import seaborn as sns\n",
    "\n",
    "# Ignorar warnings\n",
    "import warnings\n",
    "warnings.filterwarnings('ignore')\n"
   ]
  },
  {
   "cell_type": "code",
   "execution_count": 6,
   "id": "2c23af56-2026-43c7-b89d-ff1a32a86a26",
   "metadata": {},
   "outputs": [
    {
     "data": {
      "text/html": [
       "<div>\n",
       "<style scoped>\n",
       "    .dataframe tbody tr th:only-of-type {\n",
       "        vertical-align: middle;\n",
       "    }\n",
       "\n",
       "    .dataframe tbody tr th {\n",
       "        vertical-align: top;\n",
       "    }\n",
       "\n",
       "    .dataframe thead th {\n",
       "        text-align: right;\n",
       "    }\n",
       "</style>\n",
       "<table border=\"1\" class=\"dataframe\">\n",
       "  <thead>\n",
       "    <tr style=\"text-align: right;\">\n",
       "      <th></th>\n",
       "      <th>Nome da Receita</th>\n",
       "      <th>Ingredientes</th>\n",
       "      <th>Tempo de Preparo (min)</th>\n",
       "      <th>Calorias (kcal)</th>\n",
       "      <th>Tipo de Refeição</th>\n",
       "      <th>Preferência Dietética</th>\n",
       "      <th>Objetivo</th>\n",
       "    </tr>\n",
       "  </thead>\n",
       "  <tbody>\n",
       "    <tr>\n",
       "      <th>0</th>\n",
       "      <td>Omelete de claras com espinafre</td>\n",
       "      <td>Claras de ovo, espinafre, cebola</td>\n",
       "      <td>10</td>\n",
       "      <td>150</td>\n",
       "      <td>Café da manhã</td>\n",
       "      <td>Proteico</td>\n",
       "      <td>Ganho de massa</td>\n",
       "    </tr>\n",
       "    <tr>\n",
       "      <th>1</th>\n",
       "      <td>Panqueca de banana fit</td>\n",
       "      <td>Banana, ovo, aveia</td>\n",
       "      <td>10</td>\n",
       "      <td>220</td>\n",
       "      <td>Café da manhã</td>\n",
       "      <td>Proteico</td>\n",
       "      <td>Ganho de massa</td>\n",
       "    </tr>\n",
       "    <tr>\n",
       "      <th>2</th>\n",
       "      <td>Smoothie de morango com proteína</td>\n",
       "      <td>Morango, iogurte natural, whey protein</td>\n",
       "      <td>5</td>\n",
       "      <td>200</td>\n",
       "      <td>Café da manhã</td>\n",
       "      <td>Proteico</td>\n",
       "      <td>Ganho de massa</td>\n",
       "    </tr>\n",
       "    <tr>\n",
       "      <th>3</th>\n",
       "      <td>Salada de quinoa com grão-de-bico</td>\n",
       "      <td>Quinoa, grão-de-bico, tomate, pepino</td>\n",
       "      <td>20</td>\n",
       "      <td>320</td>\n",
       "      <td>Almoço</td>\n",
       "      <td>Vegano</td>\n",
       "      <td>Manutenção</td>\n",
       "    </tr>\n",
       "    <tr>\n",
       "      <th>4</th>\n",
       "      <td>Frango grelhado com batata-doce</td>\n",
       "      <td>frango, batata-doce, azeite</td>\n",
       "      <td>30</td>\n",
       "      <td>450</td>\n",
       "      <td>Almoço</td>\n",
       "      <td>Low carb</td>\n",
       "      <td>Ganho de massa</td>\n",
       "    </tr>\n",
       "  </tbody>\n",
       "</table>\n",
       "</div>"
      ],
      "text/plain": [
       "                     Nome da Receita                            Ingredientes  \\\n",
       "0    Omelete de claras com espinafre        Claras de ovo, espinafre, cebola   \n",
       "1             Panqueca de banana fit                      Banana, ovo, aveia   \n",
       "2   Smoothie de morango com proteína  Morango, iogurte natural, whey protein   \n",
       "3  Salada de quinoa com grão-de-bico    Quinoa, grão-de-bico, tomate, pepino   \n",
       "4    Frango grelhado com batata-doce             frango, batata-doce, azeite   \n",
       "\n",
       "   Tempo de Preparo (min)  Calorias (kcal) Tipo de Refeição  \\\n",
       "0                      10              150    Café da manhã   \n",
       "1                      10              220    Café da manhã   \n",
       "2                       5              200    Café da manhã   \n",
       "3                      20              320           Almoço   \n",
       "4                      30              450           Almoço   \n",
       "\n",
       "  Preferência Dietética        Objetivo  \n",
       "0              Proteico  Ganho de massa  \n",
       "1              Proteico  Ganho de massa  \n",
       "2              Proteico  Ganho de massa  \n",
       "3                Vegano      Manutenção  \n",
       "4              Low carb  Ganho de massa  "
      ]
     },
     "execution_count": 6,
     "metadata": {},
     "output_type": "execute_result"
    }
   ],
   "source": [
    "import pandas as pd\n",
    "\n",
    "url = 'https://raw.githubusercontent.com/danielaschuck/SmartKitchen/main/base.csv'\n",
    "df = pd.read_csv(url)\n",
    "\n",
    "df.head()\n"
   ]
  },
  {
   "cell_type": "code",
   "execution_count": 7,
   "id": "5ec0c0ff-a26d-46a1-99f6-5eee98681bd0",
   "metadata": {},
   "outputs": [
    {
     "name": "stdout",
     "output_type": "stream",
     "text": [
      "<class 'pandas.core.frame.DataFrame'>\n",
      "RangeIndex: 31 entries, 0 to 30\n",
      "Data columns (total 7 columns):\n",
      " #   Column                  Non-Null Count  Dtype \n",
      "---  ------                  --------------  ----- \n",
      " 0   Nome da Receita         31 non-null     object\n",
      " 1   Ingredientes            31 non-null     object\n",
      " 2   Tempo de Preparo (min)  31 non-null     int64 \n",
      " 3   Calorias (kcal)         31 non-null     int64 \n",
      " 4   Tipo de Refeição        31 non-null     object\n",
      " 5   Preferência Dietética   31 non-null     object\n",
      " 6   Objetivo                31 non-null     object\n",
      "dtypes: int64(2), object(5)\n",
      "memory usage: 1.8+ KB\n",
      "['Café da manhã' 'Almoço' 'Jantar' 'Lanche' 'Sobremesa']\n",
      "['Proteico' 'Vegano' 'Low carb']\n",
      "['Ganho de massa' 'Manutenção' 'Perda de peso']\n"
     ]
    },
    {
     "data": {
      "image/png": "[encoded data removed]",
      "text/plain": [
       "<Figure size 1000x500 with 1 Axes>"
      ]
     },
     "metadata": {},
     "output_type": "display_data"
    }
   ],
   "source": [
    "# Informações gerais\n",
    "df.info()\n",
    "\n",
    "# Verificar valores únicos em colunas importantes\n",
    "print(df['Tipo de Refeição'].unique())\n",
    "print(df['Preferência Dietética'].unique())\n",
    "print(df['Objetivo'].unique())\n",
    "\n",
    "# Gráficos para visualizar a distribuição\n",
    "plt.figure(figsize=(10,5))\n",
    "sns.countplot(data=df, x='Tipo de Refeição')\n",
    "plt.xticks(rotation=45)\n",
    "plt.title('Distribuição por Tipo de Refeição')\n",
    "plt.show()\n"
   ]
  },
  {
   "cell_type": "code",
   "execution_count": 8,
   "id": "eca1ef38-082a-4bee-a86b-0699d91b08dd",
   "metadata": {},
   "outputs": [],
   "source": [
    "# Transformar a coluna de Ingredientes em listas\n",
    "df['Ingredientes'] = df['Ingredientes'].apply(lambda x: [item.strip().lower() for item in x.split(',')])\n"
   ]
  },
  {
   "cell_type": "code",
   "execution_count": 9,
   "id": "eda6a6df-22db-4124-ad4e-652472a3b631",
   "metadata": {},
   "outputs": [
    {
     "name": "stdout",
     "output_type": "stream",
     "text": [
      "                       Nome da Receita  \\\n",
      "4      Frango grelhado com batata-doce   \n",
      "7      Sopa de frango com mandioquinha   \n",
      "17                Caldo de frango leve   \n",
      "21  Frango ao curry com arroz integral   \n",
      "24      Arroz de couve-flor com frango   \n",
      "30             Sopa de frango low carb   \n",
      "\n",
      "                                        Ingredientes  \n",
      "4                      [frango, batata-doce, azeite]  \n",
      "7                    [frango, mandioquinha, cenoura]  \n",
      "17                 [frango, cenoura, batata, cebola]  \n",
      "21           [frango, curry, arroz integral, cebola]  \n",
      "24                [couve-flor, frango, cebola, alho]  \n",
      "30  [frango, abobrinha, espinafre, caldo de legumes]  \n"
     ]
    }
   ],
   "source": [
    "def buscar_receitas_por_ingrediente(ingrediente):\n",
    "    ingrediente = ingrediente.lower()\n",
    "    receitas = df[df['Ingredientes'].apply(lambda x: ingrediente in x)]\n",
    "    return receitas[['Nome da Receita', 'Ingredientes']]\n",
    "\n",
    "# Exemplo de uso:\n",
    "ingrediente_usuario = 'frango'\n",
    "resultado = buscar_receitas_por_ingrediente(ingrediente_usuario)\n",
    "print(resultado)\n"
   ]
  },
  {
   "cell_type": "code",
   "execution_count": 12,
   "id": "de594e34-f9ad-44db-b9ad-ab1d141094da",
   "metadata": {},
   "outputs": [],
   "source": [
    "def buscar_receitas(ingredientes_usuario=None, tipo_refeicao=None, objetivo=None):\n",
    "    \"\"\"\n",
    "    ingredientes_usuario: lista de ingredientes que o usuário tem (ex: ['frango', 'arroz']) ou None\n",
    "    tipo_refeicao: tipo de refeição desejada (ex: 'Almoço', 'Jantar', 'Sobremesa') ou None\n",
    "    objetivo: objetivo do usuário (ex: 'Ganho de Massa', 'Saudável') ou None\n",
    "    \"\"\"\n",
    "    \n",
    "    receitas_filtradas = df.copy()\n",
    "    \n",
    "    # Se o usuário informou ingredientes, filtramos\n",
    "    if ingredientes_usuario:\n",
    "        ingredientes_usuario = [i.lower() for i in ingredientes_usuario]\n",
    "        receitas_filtradas = receitas_filtradas[receitas_filtradas['Ingredientes'].apply(\n",
    "            lambda receita: all(ingrediente in receita for ingrediente in ingredientes_usuario)\n",
    "        )]\n",
    "    \n",
    "    # Se o usuário informou tipo de refeição, filtramos\n",
    "    if tipo_refeicao:\n",
    "        receitas_filtradas = receitas_filtradas[receitas_filtradas['Tipo de Refeição'].str.lower() == tipo_refeicao.lower()]\n",
    "    \n",
    "    # Se o usuário informou objetivo, filtramos\n",
    "    if objetivo:\n",
    "        receitas_filtradas = receitas_filtradas[receitas_filtradas['Objetivo'].str.lower() == objetivo.lower()]\n",
    "    \n",
    "    # Se não encontrar nada, podemos dar uma resposta amigável (opcional)\n",
    "    if receitas_filtradas.empty:\n",
    "        print(\"Nenhuma receita encontrada com os critérios informados 😕.\")\n",
    "        return None\n",
    "    else:\n",
    "        return receitas_filtradas[['Nome da Receita', 'Ingredientes', 'Tipo de Refeição', 'Objetivo']]\n"
   ]
  },
  {
   "cell_type": "code",
   "execution_count": 11,
   "id": "fcc2197d-9a46-4182-aa24-4ae60f3f91be",
   "metadata": {
    "scrolled": true
   },
   "outputs": [
    {
     "name": "stdout",
     "output_type": "stream",
     "text": [
      "                       Nome da Receita  \\\n",
      "4      Frango grelhado com batata-doce   \n",
      "21  Frango ao curry com arroz integral   \n",
      "\n",
      "                               Ingredientes Tipo de Refeição        Objetivo  \n",
      "4             [frango, batata-doce, azeite]           Almoço  Ganho de massa  \n",
      "21  [frango, curry, arroz integral, cebola]           Almoço  Ganho de massa  \n"
     ]
    }
   ],
   "source": [
    "# Exemplo 1: o usuário tem frango e quer ganhar massa no almoço\n",
    "ingredientes = ['frango']\n",
    "tipo_refeicao = 'Almoço'\n",
    "objetivo = 'Ganho de Massa'\n",
    "\n",
    "resultados = buscar_receitas(ingredientes_usuario=ingredientes, tipo_refeicao=tipo_refeicao, objetivo=objetivo)\n",
    "print(resultados)\n"
   ]
  },
  {
   "cell_type": "code",
   "execution_count": 13,
   "id": "0e8e18c0-7c75-4c22-9c54-3238d24964a3",
   "metadata": {},
   "outputs": [
    {
     "name": "stdout",
     "output_type": "stream",
     "text": [
      "                         Nome da Receita  \\\n",
      "0        Omelete de claras com espinafre   \n",
      "1                 Panqueca de banana fit   \n",
      "2       Smoothie de morango com proteína   \n",
      "4        Frango grelhado com batata-doce   \n",
      "5            Salmão ao forno com legumes   \n",
      "7        Sopa de frango com mandioquinha   \n",
      "10             Iogurte com chia e frutas   \n",
      "13                Brigadeiro fit de whey   \n",
      "17                  Caldo de frango leve   \n",
      "21    Frango ao curry com arroz integral   \n",
      "22          Taco saudável de carne moída   \n",
      "26  Peixe assado com purê de batata-doce   \n",
      "29            Caldo de carne com legumes   \n",
      "\n",
      "                                         Ingredientes Tipo de Refeição  \\\n",
      "0                  [claras de ovo, espinafre, cebola]    Café da manhã   \n",
      "1                                [banana, ovo, aveia]    Café da manhã   \n",
      "2            [morango, iogurte natural, whey protein]    Café da manhã   \n",
      "4                       [frango, batata-doce, azeite]           Almoço   \n",
      "5                [salmão, abobrinha, cenoura, azeite]           Almoço   \n",
      "7                     [frango, mandioquinha, cenoura]           Jantar   \n",
      "10           [iogurte natural, chia, morango, banana]           Lanche   \n",
      "13         [whey protein, leite de coco, cacau em pó]        Sobremesa   \n",
      "17                  [frango, cenoura, batata, cebola]           Jantar   \n",
      "21            [frango, curry, arroz integral, cebola]           Almoço   \n",
      "22  [carne moída magra, alface, tomate, tortilha i...           Almoço   \n",
      "26               [filé de peixe, batata-doce, azeite]           Jantar   \n",
      "29             [carne magra, batata, cenoura, cebola]           Jantar   \n",
      "\n",
      "          Objetivo  \n",
      "0   Ganho de massa  \n",
      "1   Ganho de massa  \n",
      "2   Ganho de massa  \n",
      "4   Ganho de massa  \n",
      "5   Ganho de massa  \n",
      "7   Ganho de massa  \n",
      "10  Ganho de massa  \n",
      "13  Ganho de massa  \n",
      "17  Ganho de massa  \n",
      "21  Ganho de massa  \n",
      "22  Ganho de massa  \n",
      "26  Ganho de massa  \n",
      "29  Ganho de massa  \n"
     ]
    }
   ],
   "source": [
    "# Quero ganhar massa, mas não quero listar ingredientes\n",
    "resultado = buscar_receitas(objetivo='Ganho de Massa')\n",
    "print(resultado)\n"
   ]
  },
  {
   "cell_type": "code",
   "execution_count": null,
   "id": "09274a80-d339-4963-b2ca-31b3cfece049",
   "metadata": {},
   "outputs": [],
   "source": []
  },
  {
   "cell_type": "code",
   "execution_count": 16,
   "id": "6038313f-baa3-4df0-b591-0fd3e7468da8",
   "metadata": {},
   "outputs": [
    {
     "name": "stdin",
     "output_type": "stream",
     "text": [
      "Você quer buscar receitas com base nos ingredientes que você tem? (sim/não):  não\n",
      "Qual tipo de refeição você quer? (Almoço, Jantar, Sobremesa) (ou aperte Enter para pular):  Jantar\n",
      "Qual é seu objetivo? (Saudável, Ganho de Massa, etc) (ou aperte Enter para pular):  Ganho de Massa\n"
     ]
    },
    {
     "name": "stdout",
     "output_type": "stream",
     "text": [
      "\n",
      "Receitas encontradas para você:\n",
      "                     Nome da Receita                           Ingredientes Tipo de Refeição       Objetivo\n",
      "     Sopa de frango com mandioquinha        [frango, mandioquinha, cenoura]           Jantar Ganho de massa\n",
      "                Caldo de frango leve      [frango, cenoura, batata, cebola]           Jantar Ganho de massa\n",
      "Peixe assado com purê de batata-doce   [filé de peixe, batata-doce, azeite]           Jantar Ganho de massa\n",
      "          Caldo de carne com legumes [carne magra, batata, cenoura, cebola]           Jantar Ganho de massa\n"
     ]
    }
   ],
   "source": [
    "# 1. Perguntar se o usuário quer buscar por ingredientes\n",
    "quer_ingredientes = input(\"Você quer buscar receitas com base nos ingredientes que você tem? (sim/não): \").strip().lower()\n",
    "\n",
    "ingredientes_usuario = None\n",
    "if quer_ingredientes == 'sim':\n",
    "    ingredientes_usuario = input(\"Digite os ingredientes separados por vírgula: \").lower().split(',')\n",
    "\n",
    "# 2. Perguntar tipo de refeição\n",
    "tipo_refeicao = input(\"Qual tipo de refeição você quer? (Almoço, Jantar, Sobremesa) (ou aperte Enter para pular): \").strip()\n",
    "tipo_refeicao = tipo_refeicao if tipo_refeicao else None\n",
    "\n",
    "# 3. Perguntar objetivo\n",
    "objetivo = input(\"Qual é seu objetivo? (Saudável, Ganho de Massa, etc) (ou aperte Enter para pular): \").strip()\n",
    "objetivo = objetivo if objetivo else None\n",
    "\n",
    "# 4. Buscar receitas com base nas respostas\n",
    "receitas_encontradas = buscar_receitas(ingredientes_usuario=ingredientes_usuario, tipo_refeicao=tipo_refeicao, objetivo=objetivo)\n",
    "\n",
    "# 5. Exibir resultados\n",
    "if receitas_encontradas is not None:\n",
    "    print(\"\\nReceitas encontradas para você:\")\n",
    "    print(receitas_encontradas.to_string(index=False))\n",
    "else:\n",
    "    print(\"\\nTente mudar os filtros para encontrar mais receitas!\")\n"
   ]
  },
  {
   "cell_type": "code",
   "execution_count": null,
   "id": "b5b7b68d-f16c-44d7-ad75-83f42cf5a95a",
   "metadata": {},
   "outputs": [],
   "source": []
  }
 ],
 "metadata": {
  "kernelspec": {
   "display_name": "Python 3 (ipykernel)",
   "language": "python",
   "name": "python3"
  },
  "language_info": {
   "codemirror_mode": {
    "name": "ipython",
    "version": 3
   },
   "file_extension": ".py",
   "mimetype": "text/x-python",
   "name": "python",
   "nbconvert_exporter": "python",
   "pygments_lexer": "ipython3",
   "version": "3.11.7"
  }
 },
 "nbformat": 4,
 "nbformat_minor": 5
}
